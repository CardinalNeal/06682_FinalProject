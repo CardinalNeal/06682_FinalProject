{
 "cells": [
  {
   "cell_type": "markdown",
   "id": "261cc62c",
   "metadata": {},
   "source": [
    "Before you turn this problem in, make sure everything runs as expected. First, **restart the kernel** (in the menubar, select Kernel$\\rightarrow$Restart) and then **run all cells** (in the menubar, select Cell$\\rightarrow$Run All).\n",
    "\n",
    "Make sure you fill in any place that says `YOUR CODE HERE` or \"YOUR ANSWER HERE\", as well as your name and collaborators below:\n",
    "\n"
   ]
  },
  {
   "cell_type": "code",
   "execution_count": null,
   "id": "d9a4c3f4",
   "metadata": {},
   "outputs": [],
   "source": [
    "NAME = \"Yichen Zheng\"\n",
    "COLLABORATORS = \"\""
   ]
  },
  {
   "cell_type": "markdown",
   "id": "f9fac5c6",
   "metadata": {},
   "source": [
    "---\n",
    "\n"
   ]
  },
  {
   "cell_type": "markdown",
   "id": "e2ca97db-b880-41d9-aad4-755acca358d1",
   "metadata": {},
   "source": [
    "Project\n",
    "=======\n",
    "\n",
    "The final project is to create a small Python package for OpenAlex based on what we have learned so far. You will create the package and host it on GitHUB. You will turn in a pdf of this notebook.\n",
    "\n",
    "Your tasks are:\n",
    "1. Create a pip installable Python package in a GitHUB repo that provides an OpenAlex Works class. The class should have methods to get an RIS and a bibtex entry for a DOI. You can reuse code from previous assignments and lectures. Your class should also have a command line utility that prints RIS or bibtex to the terminal. \n",
    "2. Your package must have some tests that show at least some part of the package works correctly.\n",
    "3. You should make sure your repo passes black and pylint. Your code should pass both of these.\n",
    "4. You should setup a GitHUB action that runs your tests\n",
    "5. You should add an Actions status badge that shows in the README.\n",
    "6. Your package should also have a license.\n",
    "\n",
    "Put the URL to your repo in the next cell:\n",
    "\n"
   ]
  },
  {
   "cell_type": "markdown",
   "id": "725047ee-31c6-4ebe-b97c-7c51cde20e78",
   "metadata": {},
   "source": [
    "## **My GitHub URL is [Yichen Zheng_06682_FinalProject](https://github.com/CardinalNeal/06682_FinalProject.git).**"
   ]
  },
  {
   "cell_type": "code",
   "execution_count": 1,
   "id": "63c1675e-9904-4fd5-ad10-6adf9f17fad3",
   "metadata": {},
   "outputs": [
    {
     "name": "stdout",
     "output_type": "stream",
     "text": [
      "Cloning into '06682_FinalProject'...\n",
      "remote: Enumerating objects: 159, done.\u001b[K\n",
      "remote: Counting objects: 100% (159/159), done.\u001b[K\n",
      "remote: Compressing objects: 100% (115/115), done.\u001b[K\n",
      "remote: Total 159 (delta 64), reused 122 (delta 36), pack-reused 0\u001b[K\n",
      "Receiving objects: 100% (159/159), 24.00 KiB | 2.40 MiB/s, done.\n",
      "Resolving deltas: 100% (64/64), done.\n"
     ]
    }
   ],
   "source": [
    "!git clone https://github.com/CardinalNeal/06682_FinalProject.git"
   ]
  },
  {
   "cell_type": "code",
   "execution_count": 2,
   "id": "6d440638-7207-4e49-bf5e-11efed387fca",
   "metadata": {},
   "outputs": [],
   "source": [
    "repo_name = \"06682_FinalProject\""
   ]
  },
  {
   "cell_type": "code",
   "execution_count": 3,
   "id": "a57330e7-9679-427b-bc58-a3d530ec376a",
   "metadata": {},
   "outputs": [
    {
     "name": "stdout",
     "output_type": "stream",
     "text": [
      "\u001b[01;34m06682_FinalProject\u001b[00m\n",
      "├── LICENSE\n",
      "├── \u001b[01;34mpkg\u001b[00m\n",
      "│   ├── \u001b[01;34ms23openalex\u001b[00m\n",
      "│   │   ├── command_util.py\n",
      "│   │   ├── __init__.py\n",
      "│   │   ├── test_bibtex.py\n",
      "│   │   ├── test_example.py\n",
      "│   │   ├── test_ris.py\n",
      "│   │   └── works.py\n",
      "│   └── setup.py\n",
      "├── README.md\n",
      "└── todo.md\n",
      "\n",
      "2 directories, 10 files\n"
     ]
    }
   ],
   "source": [
    "! tree {repo_name}"
   ]
  },
  {
   "cell_type": "markdown",
   "id": "0d152ec2-3ce8-4b44-a26a-cd4648c5e0a7",
   "metadata": {},
   "source": [
    "# Show evidence that your repo passes black and pylint\n",
    "\n"
   ]
  },
  {
   "cell_type": "code",
   "execution_count": 4,
   "id": "728a40e2-d5cc-4302-afe0-07b6f199d48a",
   "metadata": {},
   "outputs": [
    {
     "name": "stderr",
     "output_type": "stream",
     "text": [
      "All done! ✨ 🍰 ✨\n",
      "7 files left unchanged.\n"
     ]
    },
    {
     "name": "stdout",
     "output_type": "stream",
     "text": [
      "\n",
      "--------------------------------------------------------------------\n",
      "Your code has been rated at 10.00/10 (previous run: 10.00/10, +0.00)\n",
      "\n"
     ]
    }
   ],
   "source": [
    "%%bash\n",
    "black 06682_FinalProject\n",
    "pylint 06682_FinalProject"
   ]
  },
  {
   "cell_type": "markdown",
   "id": "0099e4dc-0e6f-4dc3-b329-b6f44247a769",
   "metadata": {},
   "source": [
    "# Tests\n",
    "\n",
    "Create one or more tests in the repo that show your package works correctly. Show an example here that your tests work.\n",
    "\n"
   ]
  },
  {
   "cell_type": "code",
   "execution_count": 6,
   "id": "2313046e-03fb-4cd5-85eb-4325ebb16264",
   "metadata": {},
   "outputs": [
    {
     "name": "stdout",
     "output_type": "stream",
     "text": [
      "============================= test session starts ==============================\n",
      "platform linux -- Python 3.9.7, pytest-7.2.2, pluggy-1.0.0\n",
      "rootdir: /home/jupyter-yichenz3@andrew.cm-e6ae7/s23-06682/assignments/project/06682_FinalProject\n",
      "plugins: typeguard-2.13.3, anyio-3.6.1\n",
      "collected 8 items\n",
      "\n",
      "pkg/s23openalex/test_bibtex.py .                                         [ 12%]\n",
      "pkg/s23openalex/test_example.py ......                                   [ 87%]\n",
      "pkg/s23openalex/test_ris.py .                                            [100%]\n",
      "\n",
      "============================== 8 passed in 12.96s ==============================\n"
     ]
    }
   ],
   "source": [
    "%%bash\n",
    "cd 06682_FinalProject\n",
    "pytest"
   ]
  },
  {
   "cell_type": "markdown",
   "id": "754ec2b7-d224-4f1c-ba44-5d08ca9ebfbc",
   "metadata": {},
   "source": [
    "# Make some examples of your package to show it works here\n",
    "\n",
    "Install the package, and show an example for each method (RIS, and bibtex). Provide some evidence that the examples work correctly and generate valid RIS and bibtex.\n",
    "\n"
   ]
  },
  {
   "cell_type": "code",
   "execution_count": 7,
   "id": "054803a4-216c-484a-b80a-f55d8da852ad",
   "metadata": {},
   "outputs": [
    {
     "name": "stdout",
     "output_type": "stream",
     "text": [
      "Defaulting to user installation because normal site-packages is not writeable\n",
      "Processing /home/jupyter-yichenz3@andrew.cm-e6ae7/s23-06682/assignments/project/06682_FinalProject/pkg\n",
      "  Preparing metadata (setup.py): started\n",
      "  Preparing metadata (setup.py): finished with status 'done'\n",
      "Building wheels for collected packages: s23openalex\n",
      "  Building wheel for s23openalex (setup.py): started\n",
      "  Building wheel for s23openalex (setup.py): finished with status 'done'\n",
      "  Created wheel for s23openalex: filename=s23openalex-0.0.1-py3-none-any.whl size=6529 sha256=92acee3a2b92de7070301a99d9f90f22136a5106a6d9043e51dd4371d287d22c\n",
      "  Stored in directory: /tmp/pip-ephem-wheel-cache-l4arzfje/wheels/9e/6e/f6/ba6833e024dd37e70255a5b98efdd3794439fee21fb9764a31\n",
      "Successfully built s23openalex\n",
      "Installing collected packages: s23openalex\n"
     ]
    },
    {
     "name": "stderr",
     "output_type": "stream",
     "text": [
      "  WARNING: The script oa is installed in '/home/jupyter-yichenz3@andrew.cm-e6ae7/.local/bin' which is not on PATH.\n",
      "  Consider adding this directory to PATH or, if you prefer to suppress this warning, use --no-warn-script-location.\n"
     ]
    },
    {
     "name": "stdout",
     "output_type": "stream",
     "text": [
      "Successfully installed s23openalex-0.0.1\n"
     ]
    }
   ],
   "source": [
    "%%bash\n",
    "cd 06682_FinalProject/pkg\n",
    "pip install ."
   ]
  },
  {
   "cell_type": "code",
   "execution_count": 8,
   "id": "88632d35-fd90-4201-a248-32844a4d3d47",
   "metadata": {},
   "outputs": [
    {
     "name": "stdout",
     "output_type": "stream",
     "text": [
      "\u001b[01;34m06682_FinalProject\u001b[00m\n",
      "├── LICENSE\n",
      "├── \u001b[01;34mpkg\u001b[00m\n",
      "│   ├── \u001b[01;34mbuild\u001b[00m\n",
      "│   │   ├── \u001b[01;34mbdist.linux-x86_64\u001b[00m\n",
      "│   │   └── \u001b[01;34mlib\u001b[00m\n",
      "│   │       └── \u001b[01;34ms23openalex\u001b[00m\n",
      "│   │           ├── command_util.py\n",
      "│   │           ├── __init__.py\n",
      "│   │           ├── test_bibtex.py\n",
      "│   │           ├── test_example.py\n",
      "│   │           ├── test_ris.py\n",
      "│   │           └── works.py\n",
      "│   ├── \u001b[01;34ms23openalex\u001b[00m\n",
      "│   │   ├── command_util.py\n",
      "│   │   ├── __init__.py\n",
      "│   │   ├── \u001b[01;34m__pycache__\u001b[00m\n",
      "│   │   │   ├── __init__.cpython-39.pyc\n",
      "│   │   │   ├── test_bibtex.cpython-39-pytest-7.2.2.pyc\n",
      "│   │   │   ├── test_example.cpython-39-pytest-7.2.2.pyc\n",
      "│   │   │   ├── test_ris.cpython-39-pytest-7.2.2.pyc\n",
      "│   │   │   └── works.cpython-39.pyc\n",
      "│   │   ├── test_bibtex.py\n",
      "│   │   ├── test_example.py\n",
      "│   │   ├── test_ris.py\n",
      "│   │   └── works.py\n",
      "│   ├── \u001b[01;34ms23openalex.egg-info\u001b[00m\n",
      "│   │   ├── dependency_links.txt\n",
      "│   │   ├── entry_points.txt\n",
      "│   │   ├── PKG-INFO\n",
      "│   │   ├── SOURCES.txt\n",
      "│   │   └── top_level.txt\n",
      "│   └── setup.py\n",
      "├── README.md\n",
      "└── todo.md\n",
      "\n",
      "8 directories, 26 files\n"
     ]
    }
   ],
   "source": [
    "! tree {repo_name}"
   ]
  },
  {
   "cell_type": "code",
   "execution_count": 9,
   "id": "827b5819-efd5-4dc6-9367-dcd53b1d4474",
   "metadata": {},
   "outputs": [
    {
     "data": {
      "text/html": [
       "<pre>@article{kitchin-2015-examples-effective,\n",
       " author = {John R. Kitchin},\n",
       " doi = {10.1021/acscatal.5b00538},\n",
       " journal = {ACS Catalysis},\n",
       " number = {6},\n",
       " pages = {3894-3899},\n",
       " title = {Examples of Effective Data Sharing in Scientific Publishing},\n",
       " url = {https://doi.org/10.1021/acscatal.5b00538},\n",
       " volume = {5},\n",
       " year = {2015}\n",
       "}\n",
       "<pre><br><a href=\"data:text/plain;base64,QGFydGljbGV7a2l0Y2hpbi0yMDE1LWV4YW1wbGVzLWVmZmVjdGl2ZSwKIGF1dGhvciA9IHtKb2huIFIuIEtpdGNoaW59LAogZG9pID0gezEwLjEwMjEvYWNzY2F0YWwuNWIwMDUzOH0sCiBqb3VybmFsID0ge0FDUyBDYXRhbHlzaXN9LAogbnVtYmVyID0gezZ9LAogcGFnZXMgPSB7Mzg5NC0zODk5fSwKIHRpdGxlID0ge0V4YW1wbGVzIG9mIEVmZmVjdGl2ZSBEYXRhIFNoYXJpbmcgaW4gU2NpZW50aWZpYyBQdWJsaXNoaW5nfSwKIHVybCA9IHtodHRwczovL2RvaS5vcmcvMTAuMTAyMS9hY3NjYXRhbC41YjAwNTM4fSwKIHZvbHVtZSA9IHs1fSwKIHllYXIgPSB7MjAxNX0KfQo=\" download=\"bibtex\">Download bibtex</a>"
      ],
      "text/plain": [
       "<IPython.core.display.HTML object>"
      ]
     },
     "metadata": {},
     "output_type": "display_data"
    }
   ],
   "source": [
    "from s23openalex import Works\n",
    "\n",
    "w = Works(\"https://doi.org/10.1021/acscatal.5b00538\")\n",
    "my_bibtex = w.bibtex"
   ]
  },
  {
   "cell_type": "code",
   "execution_count": 10,
   "id": "a7f08333-c456-43a2-8094-443115f42337",
   "metadata": {},
   "outputs": [
    {
     "name": "stdout",
     "output_type": "stream",
     "text": [
      "{'year': '2015', 'volume': '5', 'url': 'https://doi.org/10.1021/acscatal.5b00538', 'title': 'Examples of Effective Data Sharing in Scientific Publishing', 'pages': '3894-3899', 'number': '6', 'journal': 'ACS Catalysis', 'doi': '10.1021/acscatal.5b00538', 'author': 'John R. Kitchin', 'ENTRYTYPE': 'article', 'ID': 'kitchin-2015-examples-effective'}\n"
     ]
    }
   ],
   "source": [
    "# make sure we have the correct bibtex\n",
    "import bibtexparser\n",
    "\n",
    "bibtex_database = bibtexparser.loads(my_bibtex)\n",
    "if len(bibtex_database.entries) < 1:\n",
    "    print(\"The output string is not a valid bibtex!\")\n",
    "else:\n",
    "    print(bibtex_database.entries[0])"
   ]
  },
  {
   "cell_type": "code",
   "execution_count": 11,
   "id": "09f0e944-90a1-4a03-a08b-1347334a961d",
   "metadata": {},
   "outputs": [
    {
     "name": "stdout",
     "output_type": "stream",
     "text": [
      "Defaulting to user installation because normal site-packages is not writeable\n",
      "Requirement already satisfied: rispy in /home/jupyter-yichenz3@andrew.cm-e6ae7/.local/lib/python3.9/site-packages (0.7.1)\n"
     ]
    }
   ],
   "source": [
    "!pip install rispy"
   ]
  },
  {
   "cell_type": "code",
   "execution_count": 12,
   "id": "8483dd03-7af6-4c23-a1c7-b2f43889bfcd",
   "metadata": {},
   "outputs": [
    {
     "data": {
      "text/html": [
       "<pre>TY  - JOUR\n",
       "AU  - John R. Kitchin\n",
       "PY  - 2015\n",
       "TI  - Examples of Effective Data Sharing in Scientific Publishing\n",
       "JO  - ACS Catalysis\n",
       "VL  - 5\n",
       "IS  - 6\n",
       "SP  - 3894\n",
       "EP  - 3899\n",
       "DO  - https://doi.org/10.1021/acscatal.5b00538\n",
       "ER  -<pre><br><a href=\"data:text/plain;base64,VFkgIC0gSk9VUgpBVSAgLSBKb2huIFIuIEtpdGNoaW4KUFkgIC0gMjAxNQpUSSAgLSBFeGFtcGxlcyBvZiBFZmZlY3RpdmUgRGF0YSBTaGFyaW5nIGluIFNjaWVudGlmaWMgUHVibGlzaGluZwpKTyAgLSBBQ1MgQ2F0YWx5c2lzClZMICAtIDUKSVMgIC0gNgpTUCAgLSAzODk0CkVQICAtIDM4OTkKRE8gIC0gaHR0cHM6Ly9kb2kub3JnLzEwLjEwMjEvYWNzY2F0YWwuNWIwMDUzOApFUiAgLQ==\"download=\"ris\">Download RIS</a>"
      ],
      "text/plain": [
       "<IPython.core.display.HTML object>"
      ]
     },
     "metadata": {},
     "output_type": "display_data"
    }
   ],
   "source": [
    "my_ris = w.ris"
   ]
  },
  {
   "cell_type": "code",
   "execution_count": 13,
   "id": "a2bf9518-9e91-4222-af9c-13b537d7cf36",
   "metadata": {},
   "outputs": [
    {
     "data": {
      "text/plain": [
       "[{'type_of_reference': 'JOUR',\n",
       "  'authors': ['John R. Kitchin'],\n",
       "  'year': '2015',\n",
       "  'title': 'Examples of Effective Data Sharing in Scientific Publishing',\n",
       "  'journal_name': 'ACS Catalysis',\n",
       "  'volume': '5',\n",
       "  'number': '6',\n",
       "  'start_page': '3894',\n",
       "  'end_page': '3899',\n",
       "  'doi': 'https://doi.org/10.1021/acscatal.5b00538'}]"
      ]
     },
     "execution_count": 13,
     "metadata": {},
     "output_type": "execute_result"
    }
   ],
   "source": [
    "import rispy\n",
    "\n",
    "entries = list(rispy.loads(my_ris))\n",
    "entries"
   ]
  },
  {
   "cell_type": "markdown",
   "id": "eedea211-d905-45f9-8358-f962dec6f934",
   "metadata": {},
   "source": [
    "# Show that the commandline utility works. \n",
    "\n",
    "Run the command you created and show that it outputs either RIS or bibtex for a DOI.\n",
    "\n"
   ]
  },
  {
   "cell_type": "code",
   "execution_count": 14,
   "id": "a004ad34-e95f-4f65-9da1-75abb94ea878",
   "metadata": {},
   "outputs": [
    {
     "name": "stdout",
     "output_type": "stream",
     "text": [
      "<IPython.core.display.HTML object>\n",
      "TY  - JOUR\n",
      "AU  - John R. Kitchin\n",
      "PY  - 2015\n",
      "TI  - Examples of Effective Data Sharing in Scientific Publishing\n",
      "JO  - ACS Catalysis\n",
      "VL  - 5\n",
      "IS  - 6\n",
      "SP  - 3894\n",
      "EP  - 3899\n",
      "DO  - https://doi.org/10.1021/acscatal.5b00538\n",
      "ER  -\n"
     ]
    }
   ],
   "source": [
    "%%bash\n",
    "~/.local/bin/oa -r https://doi.org/10.1021/acscatal.5b00538"
   ]
  },
  {
   "cell_type": "code",
   "execution_count": 15,
   "id": "7c7d3978-bc6c-4956-9af4-b103a40e154f",
   "metadata": {},
   "outputs": [
    {
     "name": "stdout",
     "output_type": "stream",
     "text": [
      "<IPython.core.display.HTML object>\n",
      "@article{kitchin-2015-examples-effective,\n",
      " author = {John R. Kitchin},\n",
      " doi = {10.1021/acscatal.5b00538},\n",
      " journal = {ACS Catalysis},\n",
      " number = {6},\n",
      " pages = {3894-3899},\n",
      " title = {Examples of Effective Data Sharing in Scientific Publishing},\n",
      " url = {https://doi.org/10.1021/acscatal.5b00538},\n",
      " volume = {5},\n",
      " year = {2015}\n",
      "}\n",
      "\n"
     ]
    }
   ],
   "source": [
    "%%bash\n",
    "~/.local/bin/oa -b https://doi.org/10.1021/acscatal.5b00538"
   ]
  },
  {
   "cell_type": "code",
   "execution_count": null,
   "id": "ea556875-4675-4905-a9cd-d33aa3c78f8a",
   "metadata": {},
   "outputs": [],
   "source": [
    "# Run this cell to generate a pdf from this notebook\n",
    "# Click the generated links to preview and download it.\n",
    "# Report errors to Professor Kitchin\n",
    "from s23 import pdf\n",
    "%pdf\n",
    "\n"
   ]
  },
  {
   "cell_type": "code",
   "execution_count": null,
   "id": "ab8ee85e-8e97-4832-a61a-20556a2ec23b",
   "metadata": {},
   "outputs": [],
   "source": []
  },
  {
   "cell_type": "code",
   "execution_count": null,
   "id": "0b9f626f-5907-4416-ac25-94509cd3e2c3",
   "metadata": {},
   "outputs": [],
   "source": []
  },
  {
   "cell_type": "code",
   "execution_count": null,
   "id": "9c6f2f56-b705-46a4-9e4c-8b9da968d14c",
   "metadata": {},
   "outputs": [],
   "source": []
  },
  {
   "cell_type": "markdown",
   "id": "6edf590f-9202-4b32-b620-c98e826e2626",
   "metadata": {},
   "source": [
    "## Valuable Test"
   ]
  },
  {
   "cell_type": "code",
   "execution_count": null,
   "id": "494f79db-943c-4524-b9cc-91adbfc20eae",
   "metadata": {},
   "outputs": [],
   "source": [
    "%%bash\n",
    "mkdir -p 06682_FinalProject/.github/workflows"
   ]
  },
  {
   "cell_type": "code",
   "execution_count": null,
   "id": "d3bdd596-840b-4075-baf3-aca1900b78f0",
   "metadata": {},
   "outputs": [],
   "source": [
    "%%writefile 06682_FinalProject/.github/workflows/pkgtest-workflow.yaml\n",
    "name: Package Test\n",
    "on: push\n",
    "\n",
    "jobs:\n",
    "\n",
    "  black:\n",
    "    runs-on: ubuntu-latest\n",
    "    steps:      \n",
    "      - uses: actions/checkout@v3\n",
    "      - run: |\n",
    "          pip install black\n",
    "          black --check .\n",
    "        \n",
    "  pytest:\n",
    "    runs-on: ubuntu-latest\n",
    "    steps:      \n",
    "      - uses: actions/checkout@v3\n",
    "      - run: |\n",
    "          pip install matplotlib requests IPython pytest bibtexparser\n",
    "          pytest .\n"
   ]
  },
  {
   "cell_type": "code",
   "execution_count": null,
   "id": "2b1379f6-06bd-488c-917c-d09d695b5efe",
   "metadata": {},
   "outputs": [],
   "source": [
    "%%bash\n",
    "cd 06682_FinalProject \n",
    "git add ./pkg/s23openalex/test_bibtex.py\n",
    "git add ./pkg/s23openalex/test_example.py\n",
    "git add ./pkg/s23openalex/test_ris.py\n",
    "git commit -m \"pylint should pass\"\n"
   ]
  },
  {
   "cell_type": "code",
   "execution_count": null,
   "id": "962edb09-17d4-413a-9c7b-3a52c6f89b98",
   "metadata": {},
   "outputs": [],
   "source": [
    "%%bash\n",
    "cd 06682_FinalProject\n",
    "git commit .github/workflows/pkgtest-workflow.yaml -m \"add first action again\"\n",
    "git push"
   ]
  },
  {
   "cell_type": "code",
   "execution_count": null,
   "id": "04d35c7d-e6ad-4e68-a805-10d7b5173a88",
   "metadata": {},
   "outputs": [],
   "source": [
    "!git status"
   ]
  },
  {
   "cell_type": "code",
   "execution_count": null,
   "id": "ac3a4a05-cb3c-4908-b7bd-cdc1c1758b56",
   "metadata": {},
   "outputs": [],
   "source": [
    "!ls ~/.local/bin"
   ]
  },
  {
   "cell_type": "code",
   "execution_count": null,
   "id": "1a6e8056-2a81-479d-9744-1f31a13b02db",
   "metadata": {},
   "outputs": [],
   "source": [
    "! ~/.local/bin/oa -r https://doi.org/10.1021/acscatal.5b00538"
   ]
  },
  {
   "cell_type": "code",
   "execution_count": null,
   "id": "a197c98f-fe5a-4d65-b1f4-28d8055e9b44",
   "metadata": {},
   "outputs": [],
   "source": []
  }
 ],
 "metadata": {
  "kernelspec": {
   "display_name": "Python 3",
   "language": "python",
   "name": "python3"
  },
  "language_info": {
   "codemirror_mode": {
    "name": "ipython",
    "version": 3
   },
   "file_extension": ".py",
   "mimetype": "text/x-python",
   "name": "python",
   "nbconvert_exporter": "python",
   "pygments_lexer": "ipython3",
   "version": "3.9.7"
  },
  "widgets": {
   "application/vnd.jupyter.widget-state+json": {
    "state": {},
    "version_major": 2,
    "version_minor": 0
   }
  }
 },
 "nbformat": 4,
 "nbformat_minor": 5
}
